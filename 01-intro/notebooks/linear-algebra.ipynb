{
 "cells": [
  {
   "cell_type": "markdown",
   "id": "0aeb5766",
   "metadata": {},
   "source": [
    "Think of it as the extension of the algebra you already know (solving for x in 2x + 3 = 7) into multiple dimensions. Instead of just working with single numbers (scalars), you work with lists of numbers (vectors) and grids of numbers (matrices)."
   ]
  },
  {
   "cell_type": "markdown",
   "id": "f7157667",
   "metadata": {},
   "source": [
    "vector is an ordered list of numbers. It represents a point in space and/or a direction with a magnitude."
   ]
  },
  {
   "cell_type": "markdown",
   "id": "07292d81",
   "metadata": {},
   "source": [
    "Notation: Often written as a column: v = [2, 5]ᵀ or u = [1, -1, 4]ᵀ.\n",
    "\n",
    "Geometric Interpretation: In 2D, the vector [2, 5] means \"go 2 units in the x-direction and 5 units in the y-direction.\" It's an arrow from the origin (0,0) to the point (2,5).\n",
    "Key Operation: Vector Addition. You add vectors component-wise. [2, 5] + [1, 3] = [3, 8]\n"
   ]
  },
  {
   "cell_type": "markdown",
   "id": "08ed8e45",
   "metadata": {},
   "source": [
    "2. Matrices\n",
    "A matrix is a rectangular array of numbers arranged in rows and columns. It represents a linear transformation—a function that moves vectors around in space in a specific, grid-preserving way (more on this later).\n",
    "\n",
    "Notation: An m x n matrix has m rows and n columns.\n",
    "\n",
    "text\n",
    "A = | 1  2 |\n",
    "    | 3  1 |\n",
    "This is a 2x2 matrix.\n",
    "\n",
    "Key Operation: Matrix Multiplication. This is the heart of linear algebra. When you multiply a matrix A by a vector x (A * x), you are transforming the vector x into a new vector. The rules are specific: the number of columns in A must equal the number of rows in x.\n",
    "\n",
    "3. Linear Equations and Systems\n",
    "A linear equation is an equation where the variables are only multiplied by constants and added together (e.g., 2x + 3y - z = 5). A system of linear equations is a collection of such equations.\n",
    "\n",
    "The Power of Matrices: The entire system can be beautifully written as a single matrix equation: A x = b.\n",
    "\n",
    "A is the matrix of coefficients.\n",
    "\n",
    "x is the vector of unknown variables.\n",
    "\n",
    "b is the vector of constants on the right-hand side.\n",
    "\n",
    "Solving: Finding the vector x that satisfies this equation is a primary goal. This leads to techniques like Gaussian Elimination.\n",
    "\n",
    "Part 2: Core Concepts and \"Big Ideas\"\n",
    "As you dive deeper, these are the key concepts that define the power of linear algebra.\n",
    "\n",
    "1. Linear Transformations\n",
    "This is the most important geometric idea. A linear transformation is a function that takes a vector as input and outputs another vector, with two key properties:\n",
    "\n",
    "Lines remain lines. They don't get curved.\n",
    "\n",
    "The origin remains fixed.\n",
    "\n",
    "Examples include: Rotations, Scaling, Shears, and Reflections. A matrix is the numerical \"code\" for a specific linear transformation. Multiplying by the matrix applies the transformation.\n",
    "\n",
    "2. Vector Spaces and Subspaces\n",
    "A vector space is a collection of vectors that can be added together and multiplied by scalars, following specific rules (like commutativity and associativity). ℝ² (the 2D plane) and ℝ³ (3D space) are common examples.\n",
    "A subspace is a smaller vector space living inside a larger one (e.g., a line or a plane passing through the origin in 3D space).\n",
    "\n",
    "3. Determinant\n",
    "The determinant is a single number calculated from a square matrix.\n",
    "\n",
    "Geometric Meaning: It tells you the scaling factor of the transformation. If det(A) = 3, the transformation A scales areas/volumes by a factor of 3.\n",
    "\n",
    "Critical Property: If det(A) = 0, the transformation squashes the space into a lower dimension (e.g., a 3D volume is squashed onto a 2D plane or a 1D line). The matrix is singular (non-invertible).\n",
    "\n",
    "4. Inverse of a Matrix\n",
    "The inverse of a matrix A, denoted A⁻¹, is the matrix that \"undoes\" the transformation of A. If A x = b, then x = A⁻¹ b.\n",
    "\n",
    "Existence: A matrix is only invertible if its determinant is not zero. If det(A)=0, the transformation is irreversible; information is lost.\n",
    "\n",
    "5. Eigenvalues and Eigenvectors\n",
    "This is a profoundly important concept. An eigenvector of a matrix A is a special vector whose direction does not change when A is applied to it. It only gets scaled (stretched or shrunk). The scalar factor is the eigenvalue λ.\n",
    "\n",
    "Equation: A v = λ v (The matrix A times the eigenvector v equals the eigenvalue λ times v).\n",
    "\n",
    "Application: They reveal the \"fundamental modes\" of a system. Used in:\n",
    "\n",
    "Principal Component Analysis (PCA) for dimensionality reduction.\n",
    "\n",
    "Stability analysis in differential equations.\n",
    "\n",
    "Quantum mechanics (Schrödinger equation).\n",
    "\n",
    "Google's original PageRank algorithm.\n",
    "\n",
    "Part 3: Why is Linear Algebra so Important? (Applications)\n",
    "Linear algebra is the \"hidden\" mathematics behind countless modern technologies.\n",
    "\n",
    "Computer Graphics & Animation:\n",
    "\n",
    "3D Rendering: Every rotation, translation, and scaling of a 3D object is a linear transformation represented by a matrix. Your video game character moves because of matrix multiplication.\n",
    "\n",
    "Image Processing: An image is a giant matrix of pixel values. Operations like blurring and sharpening are matrix operations.\n",
    "\n",
    "Data Science and Machine Learning:\n",
    "\n",
    "Data Representation: A dataset is often a matrix where rows are samples (e.g., customers) and columns are features (e.g., age, income).\n",
    "\n",
    "Linear Regression: Solved directly with the matrix equation (AᵀA)⁻¹Aᵀb.\n",
    "\n",
    "Deep Learning: Neural networks are a series of linear transformations (matrix multiplications) followed by non-linear activation functions.\n",
    "\n",
    "Engineering and Physics:\n",
    "\n",
    "Circuit Analysis: Solving for currents and voltages in complex circuits.\n",
    "\n",
    "Structural Analysis: Modeling forces and stresses in bridges and buildings.\n",
    "\n",
    "Quantum Mechanics: The state of a quantum system is described by a vector in a complex vector space.\n",
    "\n",
    "Other Areas:\n",
    "\n",
    "Cryptography: Certain encryption schemes rely on the difficulty of matrix operations.\n",
    "\n",
    "Recommendation Systems: (e.g., Netflix, Amazon) Use techniques like matrix factorization to predict user preferences."
   ]
  },
  {
   "cell_type": "code",
   "execution_count": null,
   "id": "50398661",
   "metadata": {},
   "outputs": [],
   "source": []
  },
  {
   "cell_type": "code",
   "execution_count": 1,
   "id": "4732ec3e",
   "metadata": {},
   "outputs": [],
   "source": [
    "import numpy as np\n",
    "import matplotlib.pyplot as plt"
   ]
  },
  {
   "cell_type": "markdown",
   "id": "26a3fbcb",
   "metadata": {},
   "source": [
    "vector operations"
   ]
  },
  {
   "cell_type": "code",
   "execution_count": 11,
   "id": "169e85d3",
   "metadata": {},
   "outputs": [
    {
     "name": "stdout",
     "output_type": "stream",
     "text": [
      "[1 2 3 4 5]\n",
      "[10 20 30 40 50]\n",
      "[ 3  6  9 12 15]\n",
      "[ 1  4  9 16 25]\n"
     ]
    }
   ],
   "source": [
    "my_vect=np.array([1,2,3,4,5])\n",
    "print(my_vect)\n",
    "10 * my_vect\n",
    "print(10 * my_vect)\n",
    "\n",
    "\n",
    "print(my_vect*3)\n",
    "print(my_vect*my_vect)"
   ]
  },
  {
   "cell_type": "code",
   "execution_count": 8,
   "id": "c8416543",
   "metadata": {},
   "outputs": [
    {
     "name": "stdout",
     "output_type": "stream",
     "text": [
      "[ 4  8 10 12]\n"
     ]
    }
   ],
   "source": [
    "u = np.array([2, 4, 5, 6])\n",
    "2 * u\n",
    "print(2 * u)"
   ]
  },
  {
   "cell_type": "code",
   "execution_count": 12,
   "id": "3d1a6956",
   "metadata": {},
   "outputs": [
    {
     "name": "stdout",
     "output_type": "stream",
     "text": [
      "[[1. 0. 0.]\n",
      " [0. 1. 0.]\n",
      " [0. 0. 1.]]\n"
     ]
    }
   ],
   "source": [
    "#identity matrix\n",
    "I = np.eye(3)\n",
    "print(I)"
   ]
  }
 ],
 "metadata": {
  "kernelspec": {
   "display_name": "ml-1VGOpNek-py3.12",
   "language": "python",
   "name": "python3"
  },
  "language_info": {
   "codemirror_mode": {
    "name": "ipython",
    "version": 3
   },
   "file_extension": ".py",
   "mimetype": "text/x-python",
   "name": "python",
   "nbconvert_exporter": "python",
   "pygments_lexer": "ipython3",
   "version": "3.12.3"
  }
 },
 "nbformat": 4,
 "nbformat_minor": 5
}
