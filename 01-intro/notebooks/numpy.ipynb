{
 "cells": [
  {
   "cell_type": "markdown",
   "id": "696cbc8f",
   "metadata": {},
   "source": [
    "numpy is a library used for working with arrays"
   ]
  },
  {
   "cell_type": "code",
   "execution_count": 4,
   "id": "80f9dbe6",
   "metadata": {},
   "outputs": [],
   "source": [
    "import numpy"
   ]
  },
  {
   "cell_type": "code",
   "execution_count": 6,
   "id": "340466ef",
   "metadata": {},
   "outputs": [
    {
     "name": "stdout",
     "output_type": "stream",
     "text": [
      "2.3.3\n"
     ]
    }
   ],
   "source": [
    "print(numpy.__version__)"
   ]
  },
  {
   "cell_type": "code",
   "execution_count": 5,
   "id": "2703b061",
   "metadata": {},
   "outputs": [],
   "source": [
    "my_array1 = numpy.array([1, 2, 3, 4, 5])"
   ]
  },
  {
   "cell_type": "code",
   "execution_count": 1,
   "id": "b640ff57",
   "metadata": {},
   "outputs": [],
   "source": [
    "import numpy as np"
   ]
  },
  {
   "cell_type": "code",
   "execution_count": 2,
   "id": "5ff25205",
   "metadata": {},
   "outputs": [
    {
     "data": {
      "text/plain": [
       "<module 'numpy' from '/home/mangoes/.cache/pypoetry/virtualenvs/ml-1VGOpNek-py3.12/lib/python3.12/site-packages/numpy/__init__.py'>"
      ]
     },
     "execution_count": 2,
     "metadata": {},
     "output_type": "execute_result"
    }
   ],
   "source": [
    "np"
   ]
  },
  {
   "cell_type": "code",
   "execution_count": 3,
   "id": "b386570e",
   "metadata": {},
   "outputs": [
    {
     "name": "stdout",
     "output_type": "stream",
     "text": [
      "[1 2 3 4 5]\n",
      "<class 'numpy.ndarray'>\n"
     ]
    }
   ],
   "source": [
    "my_array = np.array([1, 2, 3, 4, 5])    \n",
    "print(my_array)\n",
    "print(type(my_array))  # Output: <class 'numpy.ndarray'>"
   ]
  },
  {
   "cell_type": "markdown",
   "id": "e4e1c645",
   "metadata": {},
   "source": [
    "0-D Arrays-arrays that are scalar"
   ]
  },
  {
   "cell_type": "code",
   "execution_count": 7,
   "id": "1195ed0b",
   "metadata": {},
   "outputs": [
    {
     "name": "stdout",
     "output_type": "stream",
     "text": [
      "42\n",
      "<class 'numpy.ndarray'>\n"
     ]
    }
   ],
   "source": [
    "my_0_D_array = np.array(42)\n",
    "print(my_0_D_array)\n",
    "print(type(my_0_D_array))  # Output: <class 'numpy.ndarray'>"
   ]
  },
  {
   "cell_type": "markdown",
   "id": "951fae4f",
   "metadata": {},
   "source": [
    "1-D Arrays: arrays that are like list actually its a vector"
   ]
  },
  {
   "cell_type": "code",
   "execution_count": 8,
   "id": "47d2a88c",
   "metadata": {},
   "outputs": [
    {
     "name": "stdout",
     "output_type": "stream",
     "text": [
      "[1 2 3 4 5]\n",
      "<class 'numpy.ndarray'>\n"
     ]
    }
   ],
   "source": [
    "our_array_1D = np.array([1, 2, 3, 4, 5])\n",
    "print(our_array_1D)\n",
    "print(type(our_array_1D))  # Output: <class 'numpy.ndarray'>"
   ]
  },
  {
   "cell_type": "markdown",
   "id": "b589853e",
   "metadata": {},
   "source": [
    "2-D Arrays-represents a matrix  2nd ,order tensors."
   ]
  },
  {
   "cell_type": "code",
   "execution_count": 9,
   "id": "feec1036",
   "metadata": {},
   "outputs": [
    {
     "name": "stdout",
     "output_type": "stream",
     "text": [
      "[[1 2 3]\n",
      " [4 5 6]]\n",
      "<class 'numpy.ndarray'>\n"
     ]
    }
   ],
   "source": [
    "our_2D_array = np.array([[1, 2, 3], [4, 5, 6]])\n",
    "print(our_2D_array)\n",
    "print(type(our_2D_array))  # Output: <class 'numpy.ndarray'>"
   ]
  },
  {
   "cell_type": "markdown",
   "id": "87ccdb30",
   "metadata": {},
   "source": [
    "3-D arrays-matrix plus an addition of 1d array"
   ]
  },
  {
   "cell_type": "code",
   "execution_count": 10,
   "id": "00d184db",
   "metadata": {},
   "outputs": [],
   "source": [
    "arr = np.array([[[1, 2, 3], [4, 5, 6]], [[1, 2, 3], [4, 5, 6]]])"
   ]
  },
  {
   "cell_type": "markdown",
   "id": "707d4bc5",
   "metadata": {},
   "source": []
  },
  {
   "cell_type": "markdown",
   "id": "2d230258",
   "metadata": {},
   "source": [
    "checking number of dimensions"
   ]
  },
  {
   "cell_type": "code",
   "execution_count": 11,
   "id": "1c77a41f",
   "metadata": {},
   "outputs": [
    {
     "name": "stdout",
     "output_type": "stream",
     "text": [
      "0\n",
      "1\n",
      "2\n",
      "3\n"
     ]
    }
   ],
   "source": [
    "a = np.array(42)\n",
    "b = np.array([1, 2, 3, 4, 5])\n",
    "c = np.array([[1, 2, 3], [4, 5, 6]])\n",
    "d = np.array([[[1, 2, 3], [4, 5, 6]], [[1, 2, 3], [4, 5, 6]]])\n",
    "\n",
    "print(a.ndim)\n",
    "print(b.ndim)\n",
    "print(c.ndim)\n",
    "print(d.ndim)"
   ]
  },
  {
   "cell_type": "code",
   "execution_count": 12,
   "id": "c8ae47fc",
   "metadata": {},
   "outputs": [
    {
     "name": "stdout",
     "output_type": "stream",
     "text": [
      "[[[[[1 2 3 4]]]]]\n",
      "number of dimensions : 5\n"
     ]
    }
   ],
   "source": [
    "arr = np.array([1, 2, 3, 4], ndmin=5)\n",
    "\n",
    "print(arr)\n",
    "print('number of dimensions :', arr.ndim)"
   ]
  },
  {
   "cell_type": "code",
   "execution_count": 13,
   "id": "3ea07bc3",
   "metadata": {},
   "outputs": [
    {
     "name": "stdout",
     "output_type": "stream",
     "text": [
      "[[[[[1 2 3 4]]]]]\n",
      "number of dimensions : 5\n"
     ]
    }
   ],
   "source": [
    "arr = np.array([1, 2, 3, 4], ndmin=5)\n",
    "\n",
    "print(arr)\n",
    "print('number of dimensions :', arr.ndim)"
   ]
  },
  {
   "cell_type": "markdown",
   "id": "da00fb65",
   "metadata": {},
   "source": [
    "NumPy Array Slicing"
   ]
  },
  {
   "cell_type": "code",
   "execution_count": 14,
   "id": "a2b1a91b",
   "metadata": {},
   "outputs": [
    {
     "name": "stdout",
     "output_type": "stream",
     "text": [
      "[2 3 4 5]\n"
     ]
    }
   ],
   "source": [
    "arr = np.array([1, 2, 3, 4, 5, 6, 7])\n",
    "\n",
    "print(arr[1:5])"
   ]
  },
  {
   "cell_type": "code",
   "execution_count": 20,
   "id": "758e1683",
   "metadata": {},
   "outputs": [
    {
     "name": "stdout",
     "output_type": "stream",
     "text": [
      "[5 7 9]\n"
     ]
    }
   ],
   "source": [
    "array = np.array([1, 2, 3, 4, 5, 6, 7, 8, 9, 10])\n",
    "print(array[4:10:2])  # Elements from index 4 to 9 with a step of 2"
   ]
  },
  {
   "cell_type": "markdown",
   "id": "47136b14",
   "metadata": {},
   "source": [
    "NumPy Data Types"
   ]
  },
  {
   "cell_type": "code",
   "execution_count": 21,
   "id": "67614112",
   "metadata": {},
   "outputs": [
    {
     "name": "stdout",
     "output_type": "stream",
     "text": [
      "int64\n"
     ]
    }
   ],
   "source": [
    "array=np.array([1, 2, 3, 4, 5, 6, 7, 8, 9, 10])\n",
    "print(array.dtype)  # Output: int64"
   ]
  },
  {
   "cell_type": "code",
   "execution_count": 25,
   "id": "83faba76",
   "metadata": {},
   "outputs": [
    {
     "name": "stdout",
     "output_type": "stream",
     "text": [
      "<class 'numpy.ndarray'>\n",
      "int64\n"
     ]
    }
   ],
   "source": [
    "array=np.array([1, 2, 3, 4, 5, 6, 7, 8, 9, 10])\n",
    "print(type(array))  # this gets the type of the array object\n",
    "print(array.dtype)  # this gets the data type of the elements in the array"
   ]
  },
  {
   "cell_type": "code",
   "execution_count": 26,
   "id": "dfc101ce",
   "metadata": {},
   "outputs": [
    {
     "name": "stdout",
     "output_type": "stream",
     "text": [
      "[b'1' b'2' b'3' b'4']\n",
      "|S1\n"
     ]
    }
   ],
   "source": [
    "arr = np.array([1, 2, 3, 4], dtype='S')\n",
    "\n",
    "print(arr)\n",
    "print(arr.dtype)"
   ]
  },
  {
   "cell_type": "markdown",
   "id": "490ecd46",
   "metadata": {},
   "source": [
    "Converting Data Type on Existing Arrays"
   ]
  },
  {
   "cell_type": "markdown",
   "id": "8f3ecc2a",
   "metadata": {},
   "source": [
    "change the data type of an existing array, is to make a copy of the array with the astype() method. then you can specify the datatype you want to chaange to"
   ]
  },
  {
   "cell_type": "code",
   "execution_count": 29,
   "id": "984a749e",
   "metadata": {},
   "outputs": [
    {
     "name": "stdout",
     "output_type": "stream",
     "text": [
      "[1 2 3 4 5]\n",
      "another_changed_array: [1. 2. 3. 4. 5.]\n"
     ]
    }
   ],
   "source": [
    "before_array = np.array([1, 2, 3, 4, 5])\n",
    "changed_array = before_array.astype(np.int32)\n",
    "print(changed_array)\n",
    "another_changed_array = before_array.astype('f')\n",
    "print(f'another_changed_array: {another_changed_array}')"
   ]
  },
  {
   "cell_type": "code",
   "execution_count": 32,
   "id": "79ffc951",
   "metadata": {},
   "outputs": [
    {
     "name": "stdout",
     "output_type": "stream",
     "text": [
      "[ True  True  True  True  True]\n",
      "bool\n"
     ]
    }
   ],
   "source": [
    "my_array = np.array([1, 2, 3, 4, 5])\n",
    "my_new_array = my_array.astype(bool)\n",
    "print(my_new_array)\n",
    "print(my_new_array.dtype)\n",
    "\n"
   ]
  },
  {
   "cell_type": "markdown",
   "id": "514a013d",
   "metadata": {},
   "source": [
    "numpy copy vs view"
   ]
  },
  {
   "cell_type": "markdown",
   "id": "ec67da8f",
   "metadata": {},
   "source": [
    "copy:fabricated data from the original(aka view)\n",
    "view:original data"
   ]
  },
  {
   "cell_type": "code",
   "execution_count": 33,
   "id": "17081688",
   "metadata": {},
   "outputs": [
    {
     "name": "stdout",
     "output_type": "stream",
     "text": [
      "[42  2  3  4  5]\n",
      "[1 2 3 4 5]\n"
     ]
    }
   ],
   "source": [
    "arr = np.array([1, 2, 3, 4, 5])\n",
    "x = arr.copy()\n",
    "arr[0] = 42\n",
    "\n",
    "print(arr)\n",
    "print(x)"
   ]
  },
  {
   "cell_type": "code",
   "execution_count": 34,
   "id": "86924038",
   "metadata": {},
   "outputs": [
    {
     "name": "stdout",
     "output_type": "stream",
     "text": [
      "[42  2  3  4  5]\n",
      "[42  2  3  4  5]\n"
     ]
    }
   ],
   "source": [
    "arr = np.array([1, 2, 3, 4, 5])\n",
    "x = arr.view()\n",
    "arr[0] = 42\n",
    "\n",
    "print(arr)\n",
    "print(x)\n"
   ]
  },
  {
   "cell_type": "markdown",
   "id": "88811316",
   "metadata": {},
   "source": [
    "copies owns the data, and views does not own the data\n"
   ]
  },
  {
   "cell_type": "code",
   "execution_count": 35,
   "id": "d4628c05",
   "metadata": {},
   "outputs": [
    {
     "name": "stdout",
     "output_type": "stream",
     "text": [
      "None\n",
      "[1 2 3 4 5]\n"
     ]
    }
   ],
   "source": [
    "#check who owns the data\n",
    "arr = np.array([1, 2, 3, 4, 5])\n",
    "x = arr.copy()\n",
    "y = arr.view()  \n",
    "# base attribute returns the base object if the array is a view, and None if the array owns its data\n",
    "\n",
    "print(x.base)  # Output: None, as x is a copy and owns its data\n",
    "print(y.base)  # Output: Original array, as y is a view and does not"
   ]
  },
  {
   "cell_type": "markdown",
   "id": "f0a86659",
   "metadata": {},
   "source": [
    "shape of an array:the number of elements in each dimension(rows and columns)."
   ]
  },
  {
   "cell_type": "code",
   "execution_count": 36,
   "id": "ebfad7ff",
   "metadata": {},
   "outputs": [
    {
     "name": "stdout",
     "output_type": "stream",
     "text": [
      "(2, 4)\n",
      "(2, 4)\n"
     ]
    }
   ],
   "source": [
    "arr = np.array([[1, 2, 3, 4], [5, 6, 7, 8]])\n",
    "\n",
    "print(arr.shape)\n",
    "arr = np.array([[1, 2, 3, 4], [5, 6, 7, 8]])\n",
    "\n",
    "print(arr.shape)"
   ]
  },
  {
   "cell_type": "code",
   "execution_count": 38,
   "id": "09b8b4a4",
   "metadata": {},
   "outputs": [
    {
     "name": "stdout",
     "output_type": "stream",
     "text": [
      "(1, 2, 4)\n"
     ]
    }
   ],
   "source": [
    "arr=np.array([[1, 2, 3, 4], [5, 6, 7, 8]], ndmin=3)\n",
    "print(arr.shape)\n",
    "\n"
   ]
  },
  {
   "cell_type": "code",
   "execution_count": 39,
   "id": "3507fa14",
   "metadata": {},
   "outputs": [
    {
     "name": "stdout",
     "output_type": "stream",
     "text": [
      "[[[[[1 2 3 4]]]]]\n",
      "(1, 1, 1, 1, 4)\n"
     ]
    }
   ],
   "source": [
    "arr = np.array([1, 2, 3, 4], ndmin=5)\n",
    "print(arr)\n",
    "print(arr.shape)\n"
   ]
  },
  {
   "cell_type": "markdown",
   "id": "05e1bdf5",
   "metadata": {},
   "source": [
    " Reshape:\n",
    " changing the shape of an array.\n",
    "\n",
    "The shape of an array is the number of elements in each dimension.\n",
    "\n",
    "By reshaping we can add or remove dimensions or change number of elements in each dimension."
   ]
  },
  {
   "cell_type": "code",
   "execution_count": null,
   "id": "8c86b766",
   "metadata": {},
   "outputs": [],
   "source": [
    "arr=np.array([1,2,3,4,4,5,6,8,9,10,12,17])\n",
    "new_arr=arr.reshape(4,3) # the new array will have  4 arrays with each 3 elements\n",
    "print(new_arr)"
   ]
  },
  {
   "cell_type": "code",
   "execution_count": 40,
   "id": "d3134749",
   "metadata": {},
   "outputs": [
    {
     "name": "stdout",
     "output_type": "stream",
     "text": [
      "Array:\n",
      " [[ 0  1  2  3]\n",
      " [ 4  5  6  7]\n",
      " [ 8  9 10 11]]\n",
      "Shape: (3, 4)\n",
      "Strides: (32, 8)\n",
      "Dtype: int64\n",
      "\n",
      "View (arr[::2, ::2]):\n",
      " [[ 0  2]\n",
      " [ 8 10]]\n",
      "Original arr after modifying view:\n",
      " [[999   1   2   3]\n",
      " [  4   5   6   7]\n",
      " [  8   9  10  11]]\n"
     ]
    }
   ],
   "source": [
    "\n",
    "# Create a 2D array\n",
    "arr = np.arange(12).reshape(3, 4)\n",
    "print(\"Array:\\n\", arr)\n",
    "print(\"Shape:\", arr.shape)  # (3, 4) -> 3 rows, 4 columns\n",
    "print(\"Strides:\", arr.strides) # (32, 8) -> Bytes to next row, bytes to next column\n",
    "print(\"Dtype:\", arr.dtype)   # int64 (platform dependent)\n",
    "\n",
    "# A view is a different \"look\" at the same data\n",
    "arr_view = arr[::2, ::2] # Every other row and column\n",
    "print(\"\\nView (arr[::2, ::2]):\\n\", arr_view)\n",
    "arr_view[0, 0] = 999\n",
    "print(\"Original arr after modifying view:\\n\", arr) # The original is changed!"
   ]
  },
  {
   "cell_type": "markdown",
   "id": "b651f544",
   "metadata": {},
   "source": [
    "VECTORIZATION"
   ]
  },
  {
   "cell_type": "code",
   "execution_count": 45,
   "id": "adde207c",
   "metadata": {},
   "outputs": [],
   "source": [
    "# The SLOW way (using loops - DON'T DO THIS)\n",
    "a = np.random.rand(1000000)\n",
    "b = np.random.rand(1000000)\n",
    "\n",
    "# %timeit is a Jupyter magic command to time execution.\n",
    "# Let's simulate it conceptually.\n",
    "slow_result = [a_i + b_i for a_i, b_i in zip(a, b)] # Very Slow!\n",
    "\n"
   ]
  },
  {
   "cell_type": "code",
   "execution_count": 46,
   "id": "3dbe24da",
   "metadata": {},
   "outputs": [
    {
     "name": "stdout",
     "output_type": "stream",
     "text": [
      "Element-wise multiplication: [0.01685132 0.14545468 0.25636476 ... 0.11139584 0.06712077 0.01572481]\n",
      "Exponential: [2.31148576 1.66246258 1.64650332 ... 1.50802714 1.29253054 1.51750017]\n",
      "Comparison: [ True  True False ... False False False]\n",
      "Matrix multiplication (1D is dot product): 250325.50983980662\n"
     ]
    }
   ],
   "source": [
    "# The FAST way (vectorized - DO THIS)\n",
    "fast_result = a + b # Blazingly fast\n",
    "\n",
    "# Other vectorized operations\n",
    "print(\"Element-wise multiplication:\", a * b)\n",
    "print(\"Exponential:\", np.exp(a))\n",
    "print(\"Comparison:\", a > 0.5)\n",
    "print(\"Matrix multiplication (1D is dot product):\", np.dot(a, b))"
   ]
  },
  {
   "cell_type": "markdown",
   "id": "1cdaf590",
   "metadata": {},
   "source": [
    "Exercise 1: Create two 1D arrays of size 10,000 with random integers. Time the difference between adding them with a list comprehension vs. numpy vectorization. (Use %timeit in Jupyter or time.time() in a script)."
   ]
  },
  {
   "cell_type": "code",
   "execution_count": 48,
   "id": "3a77ec27",
   "metadata": {},
   "outputs": [
    {
     "name": "stdout",
     "output_type": "stream",
     "text": [
      "list_time: 0.029094s, vectorized_time: 0.007139s\n",
      "Equal results: True\n"
     ]
    }
   ],
   "source": [
    "import time\n",
    "# Create two arrays of size 10,000 (integers to match the exercise request)\n",
    "my__array1 = np.random.randint(0, 100, 10000)\n",
    "my__array2 = np.random.randint(0, 100, 10000)\n",
    "# using list comprehension (explicit Python loop)\n",
    "start = time.time()\n",
    "my_solution_sum = [my__array1[i] + my__array2[i] for i in range(len(my__array1))]\n",
    "list_time = time.time() - start\n",
    "# using numpy vectorization\n",
    "start = time.time()\n",
    "my_vectorized_sum = my__array1 + my__array2\n",
    "vectorized_time = time.time() - start\n",
    "print(f'list_time: {list_time:.6f}s, vectorized_time: {vectorized_time:.6f}s')\n",
    "# verify the results are equal\n",
    "print('Equal results:', np.array_equal(np.array(my_solution_sum), my_vectorized_sum))\n"
   ]
  },
  {
   "cell_type": "code",
   "execution_count": 49,
   "id": "8e403a46",
   "metadata": {},
   "outputs": [
    {
     "name": "stdout",
     "output_type": "stream",
     "text": [
      "[1 2 3 4 5]\n"
     ]
    }
   ],
   "source": [
    "my_array = np.array([1, 2, 3, 4, 5])\n",
    "print(my_array)"
   ]
  },
  {
   "cell_type": "code",
   "execution_count": 50,
   "id": "aab4d162",
   "metadata": {},
   "outputs": [
    {
     "name": "stdout",
     "output_type": "stream",
     "text": [
      "Matrix + Vector:\n",
      " [[2. 3. 4. 5.]\n",
      " [2. 3. 4. 5.]\n",
      " [2. 3. 4. 5.]]\n",
      "\n",
      "Outer sum via broadcasting:\n",
      " [[0 1 2 3]\n",
      " [1 2 3 4]\n",
      " [2 3 4 5]]\n"
     ]
    }
   ],
   "source": [
    "# Example 1: Scaling a matrix\n",
    "matrix = np.ones((3, 4))\n",
    "vector = np.array([1, 2, 3, 4])\n",
    "\n",
    "# (3, 4) + (4,) -> (3, 4) + (1, 4) -> (3, 4)\n",
    "result = matrix + vector\n",
    "print(\"Matrix + Vector:\\n\", result)\n",
    "\n",
    "# Example 2: More complex broadcasting\n",
    "A = np.arange(3).reshape(3, 1)   # Shape (3, 1)\n",
    "B = np.arange(4).reshape(1, 4)   # Shape (1, 4)\n",
    "\n",
    "# (3, 1) + (1, 4) -> (3, 4)\n",
    "C = A + B\n",
    "print(\"\\nOuter sum via broadcasting:\\n\", C)"
   ]
  },
  {
   "cell_type": "markdown",
   "id": "3548ae66",
   "metadata": {},
   "source": [
    "Broadcasting: Numpy's Superpower"
   ]
  },
  {
   "cell_type": "markdown",
   "id": "d43d8ed8",
   "metadata": {},
   "source": [
    "Broadcasting allows operations between arrays of different shapes, without making copies of the data.\n",
    "\n",
    "Rule: Dimensions are compared from right to left. They are compatible if they are equal, or one of them is 1."
   ]
  },
  {
   "cell_type": "code",
   "execution_count": null,
   "id": "ee70f9e4",
   "metadata": {},
   "outputs": [],
   "source": [
    "# Example 1: Scaling a matrix\n",
    "matrix = np.ones((3, 4))\n",
    "vector = np.array([1, 2, 3, 4])\n",
    "\n",
    "# (3, 4) + (4,) -> (3, 4) + (1, 4) -> (3, 4)\n",
    "result = matrix + vector\n",
    "print(\"Matrix + Vector:\\n\", result)\n",
    "\n",
    "# Example 2: More complex broadcasting\n",
    "A = np.arange(3).reshape(3, 1)   # Shape (3, 1)\n",
    "B = np.arange(4).reshape(1, 4)   # Shape (1, 4)\n",
    "\n",
    "# (3, 1) + (1, 4) -> (3, 4)\n",
    "C = A + B\n",
    "print(\"\\nOuter sum via broadcasting:\\n\", C)"
   ]
  },
  {
   "cell_type": "markdown",
   "id": "4b421f54",
   "metadata": {},
   "source": []
  }
 ],
 "metadata": {
  "kernelspec": {
   "display_name": "ml-1VGOpNek-py3.12",
   "language": "python",
   "name": "python3"
  },
  "language_info": {
   "codemirror_mode": {
    "name": "ipython",
    "version": 3
   },
   "file_extension": ".py",
   "mimetype": "text/x-python",
   "name": "python",
   "nbconvert_exporter": "python",
   "pygments_lexer": "ipython3",
   "version": "3.12.3"
  }
 },
 "nbformat": 4,
 "nbformat_minor": 5
}
