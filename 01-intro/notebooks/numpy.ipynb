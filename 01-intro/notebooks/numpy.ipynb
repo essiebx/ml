{
 "cells": [
  {
   "cell_type": "markdown",
   "id": "696cbc8f",
   "metadata": {},
   "source": [
    "numpy is a library used for working with arrays"
   ]
  },
  {
   "cell_type": "code",
   "execution_count": 6,
   "id": "80f9dbe6",
   "metadata": {},
   "outputs": [],
   "source": [
    "import numpy"
   ]
  },
  {
   "cell_type": "code",
   "execution_count": 7,
   "id": "340466ef",
   "metadata": {},
   "outputs": [
    {
     "name": "stdout",
     "output_type": "stream",
     "text": [
      "2.3.3\n"
     ]
    }
   ],
   "source": [
    "print(numpy.__version__)"
   ]
  },
  {
   "cell_type": "code",
   "execution_count": 8,
   "id": "2703b061",
   "metadata": {},
   "outputs": [],
   "source": [
    "my_array1 = numpy.array([1, 2, 3, 4, 5])"
   ]
  },
  {
   "cell_type": "code",
   "execution_count": 9,
   "id": "b640ff57",
   "metadata": {},
   "outputs": [],
   "source": [
    "import numpy as np"
   ]
  },
  {
   "cell_type": "code",
   "execution_count": 10,
   "id": "5ff25205",
   "metadata": {},
   "outputs": [
    {
     "data": {
      "text/plain": [
       "<module 'numpy' from '/home/mangoes/.cache/pypoetry/virtualenvs/ml-1VGOpNek-py3.12/lib/python3.12/site-packages/numpy/__init__.py'>"
      ]
     },
     "execution_count": 10,
     "metadata": {},
     "output_type": "execute_result"
    }
   ],
   "source": [
    "np"
   ]
  },
  {
   "cell_type": "code",
   "execution_count": 11,
   "id": "b386570e",
   "metadata": {},
   "outputs": [
    {
     "name": "stdout",
     "output_type": "stream",
     "text": [
      "[1 2 3 4 5]\n",
      "<class 'numpy.ndarray'>\n"
     ]
    }
   ],
   "source": [
    "my_array = np.array([1, 2, 3, 4, 5])    \n",
    "print(my_array)\n",
    "print(type(my_array))  # Output: <class 'numpy.ndarray'>"
   ]
  },
  {
   "cell_type": "markdown",
   "id": "e4e1c645",
   "metadata": {},
   "source": [
    "0-D Arrays-arrays that are scalar"
   ]
  },
  {
   "cell_type": "code",
   "execution_count": 12,
   "id": "1195ed0b",
   "metadata": {},
   "outputs": [
    {
     "name": "stdout",
     "output_type": "stream",
     "text": [
      "42\n",
      "<class 'numpy.ndarray'>\n"
     ]
    }
   ],
   "source": [
    "my_0_D_array = np.array(42)\n",
    "print(my_0_D_array)\n",
    "print(type(my_0_D_array))  # Output: <class 'numpy.ndarray'>"
   ]
  },
  {
   "cell_type": "markdown",
   "id": "951fae4f",
   "metadata": {},
   "source": [
    "1-D Arrays: arrays that are like list actually its a vector"
   ]
  },
  {
   "cell_type": "code",
   "execution_count": 13,
   "id": "47d2a88c",
   "metadata": {},
   "outputs": [
    {
     "name": "stdout",
     "output_type": "stream",
     "text": [
      "[1 2 3 4 5]\n",
      "<class 'numpy.ndarray'>\n"
     ]
    }
   ],
   "source": [
    "our_array_1D = np.array([1, 2, 3, 4, 5])\n",
    "print(our_array_1D)\n",
    "print(type(our_array_1D))  # Output: <class 'numpy.ndarray'>"
   ]
  },
  {
   "cell_type": "markdown",
   "id": "b589853e",
   "metadata": {},
   "source": [
    "2-D Arrays-represents a matrix  2nd ,order tensors."
   ]
  },
  {
   "cell_type": "code",
   "execution_count": 14,
   "id": "feec1036",
   "metadata": {},
   "outputs": [
    {
     "name": "stdout",
     "output_type": "stream",
     "text": [
      "[[1 2 3]\n",
      " [4 5 6]]\n",
      "<class 'numpy.ndarray'>\n"
     ]
    }
   ],
   "source": [
    "our_2D_array = np.array([[1, 2, 3], [4, 5, 6]])\n",
    "print(our_2D_array)\n",
    "print(type(our_2D_array))  # Output: <class 'numpy.ndarray'>"
   ]
  },
  {
   "cell_type": "markdown",
   "id": "87ccdb30",
   "metadata": {},
   "source": [
    "3-D arrays-matrix plus an addition of 1d array"
   ]
  },
  {
   "cell_type": "code",
   "execution_count": 15,
   "id": "00d184db",
   "metadata": {},
   "outputs": [],
   "source": [
    "arr = np.array([[[1, 2, 3], [4, 5, 6]], [[1, 2, 3], [4, 5, 6]]])"
   ]
  },
  {
   "cell_type": "markdown",
   "id": "707d4bc5",
   "metadata": {},
   "source": []
  },
  {
   "cell_type": "markdown",
   "id": "2d230258",
   "metadata": {},
   "source": [
    "checking number of dimensions"
   ]
  },
  {
   "cell_type": "code",
   "execution_count": 16,
   "id": "1c77a41f",
   "metadata": {},
   "outputs": [
    {
     "name": "stdout",
     "output_type": "stream",
     "text": [
      "0\n",
      "1\n",
      "2\n",
      "3\n"
     ]
    }
   ],
   "source": [
    "a = np.array(42)\n",
    "b = np.array([1, 2, 3, 4, 5])\n",
    "c = np.array([[1, 2, 3], [4, 5, 6]])\n",
    "d = np.array([[[1, 2, 3], [4, 5, 6]], [[1, 2, 3], [4, 5, 6]]])\n",
    "\n",
    "print(a.ndim)\n",
    "print(b.ndim)\n",
    "print(c.ndim)\n",
    "print(d.ndim)"
   ]
  },
  {
   "cell_type": "code",
   "execution_count": 17,
   "id": "c8ae47fc",
   "metadata": {},
   "outputs": [
    {
     "name": "stdout",
     "output_type": "stream",
     "text": [
      "[[[[[1 2 3 4]]]]]\n",
      "number of dimensions : 5\n"
     ]
    }
   ],
   "source": [
    "arr = np.array([1, 2, 3, 4], ndmin=5)\n",
    "\n",
    "print(arr)\n",
    "print('number of dimensions :', arr.ndim)"
   ]
  },
  {
   "cell_type": "code",
   "execution_count": 18,
   "id": "3ea07bc3",
   "metadata": {},
   "outputs": [
    {
     "name": "stdout",
     "output_type": "stream",
     "text": [
      "[[[[[1 2 3 4]]]]]\n",
      "number of dimensions : 5\n"
     ]
    }
   ],
   "source": [
    "arr = np.array([1, 2, 3, 4], ndmin=5)\n",
    "\n",
    "print(arr)\n",
    "print('number of dimensions :', arr.ndim)"
   ]
  },
  {
   "cell_type": "markdown",
   "id": "da00fb65",
   "metadata": {},
   "source": [
    "NumPy Array Slicing"
   ]
  },
  {
   "cell_type": "code",
   "execution_count": 19,
   "id": "a2b1a91b",
   "metadata": {},
   "outputs": [
    {
     "name": "stdout",
     "output_type": "stream",
     "text": [
      "[2 3 4 5]\n"
     ]
    }
   ],
   "source": [
    "arr = np.array([1, 2, 3, 4, 5, 6, 7])\n",
    "\n",
    "print(arr[1:5])"
   ]
  },
  {
   "cell_type": "code",
   "execution_count": 20,
   "id": "758e1683",
   "metadata": {},
   "outputs": [
    {
     "name": "stdout",
     "output_type": "stream",
     "text": [
      "[5 7 9]\n"
     ]
    }
   ],
   "source": [
    "array = np.array([1, 2, 3, 4, 5, 6, 7, 8, 9, 10])\n",
    "print(array[4:10:2])  # Elements from index 4 to 9 with a step of 2"
   ]
  },
  {
   "cell_type": "markdown",
   "id": "47136b14",
   "metadata": {},
   "source": [
    "NumPy Data Types"
   ]
  },
  {
   "cell_type": "code",
   "execution_count": 21,
   "id": "67614112",
   "metadata": {},
   "outputs": [
    {
     "name": "stdout",
     "output_type": "stream",
     "text": [
      "int64\n"
     ]
    }
   ],
   "source": [
    "array=np.array([1, 2, 3, 4, 5, 6, 7, 8, 9, 10])\n",
    "print(array.dtype)  # Output: int64"
   ]
  },
  {
   "cell_type": "code",
   "execution_count": 22,
   "id": "83faba76",
   "metadata": {},
   "outputs": [
    {
     "name": "stdout",
     "output_type": "stream",
     "text": [
      "<class 'numpy.ndarray'>\n",
      "int64\n"
     ]
    }
   ],
   "source": [
    "array=np.array([1, 2, 3, 4, 5, 6, 7, 8, 9, 10])\n",
    "print(type(array))  # this gets the type of the array object\n",
    "print(array.dtype)  # this gets the data type of the elements in the array"
   ]
  },
  {
   "cell_type": "code",
   "execution_count": 23,
   "id": "dfc101ce",
   "metadata": {},
   "outputs": [
    {
     "name": "stdout",
     "output_type": "stream",
     "text": [
      "[b'1' b'2' b'3' b'4']\n",
      "|S1\n"
     ]
    }
   ],
   "source": [
    "arr = np.array([1, 2, 3, 4], dtype='S')\n",
    "\n",
    "print(arr)\n",
    "print(arr.dtype)"
   ]
  },
  {
   "cell_type": "markdown",
   "id": "490ecd46",
   "metadata": {},
   "source": [
    "Converting Data Type on Existing Arrays"
   ]
  },
  {
   "cell_type": "markdown",
   "id": "8f3ecc2a",
   "metadata": {},
   "source": [
    "change the data type of an existing array, is to make a copy of the array with the astype() method. then you can specify the datatype you want to chaange to"
   ]
  },
  {
   "cell_type": "code",
   "execution_count": 24,
   "id": "984a749e",
   "metadata": {},
   "outputs": [
    {
     "name": "stdout",
     "output_type": "stream",
     "text": [
      "[1 2 3 4 5]\n",
      "another_changed_array: [1. 2. 3. 4. 5.]\n"
     ]
    }
   ],
   "source": [
    "before_array = np.array([1, 2, 3, 4, 5])\n",
    "changed_array = before_array.astype(np.int32)\n",
    "print(changed_array)\n",
    "another_changed_array = before_array.astype('f')\n",
    "print(f'another_changed_array: {another_changed_array}')"
   ]
  },
  {
   "cell_type": "code",
   "execution_count": 25,
   "id": "79ffc951",
   "metadata": {},
   "outputs": [
    {
     "name": "stdout",
     "output_type": "stream",
     "text": [
      "[ True  True  True  True  True]\n",
      "bool\n"
     ]
    }
   ],
   "source": [
    "my_array = np.array([1, 2, 3, 4, 5])\n",
    "my_new_array = my_array.astype(bool)\n",
    "print(my_new_array)\n",
    "print(my_new_array.dtype)\n",
    "\n"
   ]
  },
  {
   "cell_type": "markdown",
   "id": "514a013d",
   "metadata": {},
   "source": [
    "numpy copy vs view"
   ]
  },
  {
   "cell_type": "markdown",
   "id": "ec67da8f",
   "metadata": {},
   "source": [
    "copy:fabricated data from the original(aka view)\n",
    "view:original data"
   ]
  },
  {
   "cell_type": "code",
   "execution_count": 26,
   "id": "17081688",
   "metadata": {},
   "outputs": [
    {
     "name": "stdout",
     "output_type": "stream",
     "text": [
      "[42  2  3  4  5]\n",
      "[1 2 3 4 5]\n"
     ]
    }
   ],
   "source": [
    "arr = np.array([1, 2, 3, 4, 5])\n",
    "x = arr.copy()\n",
    "arr[0] = 42\n",
    "\n",
    "print(arr)\n",
    "print(x)"
   ]
  },
  {
   "cell_type": "code",
   "execution_count": 27,
   "id": "86924038",
   "metadata": {},
   "outputs": [
    {
     "name": "stdout",
     "output_type": "stream",
     "text": [
      "[42  2  3  4  5]\n",
      "[42  2  3  4  5]\n"
     ]
    }
   ],
   "source": [
    "arr = np.array([1, 2, 3, 4, 5])\n",
    "x = arr.view()\n",
    "arr[0] = 42\n",
    "\n",
    "print(arr)\n",
    "print(x)\n"
   ]
  },
  {
   "cell_type": "markdown",
   "id": "88811316",
   "metadata": {},
   "source": [
    "copies owns the data, and views does not own the data\n"
   ]
  },
  {
   "cell_type": "code",
   "execution_count": 28,
   "id": "d4628c05",
   "metadata": {},
   "outputs": [
    {
     "name": "stdout",
     "output_type": "stream",
     "text": [
      "None\n",
      "[1 2 3 4 5]\n"
     ]
    }
   ],
   "source": [
    "#check who owns the data\n",
    "arr = np.array([1, 2, 3, 4, 5])\n",
    "x = arr.copy()\n",
    "y = arr.view()  \n",
    "# base attribute returns the base object if the array is a view, and None if the array owns its data\n",
    "\n",
    "print(x.base)  # Output: None, as x is a copy and owns its data\n",
    "print(y.base)  # Output: Original array, as y is a view and does not"
   ]
  },
  {
   "cell_type": "markdown",
   "id": "f0a86659",
   "metadata": {},
   "source": [
    "shape of an array:the number of elements in each dimension(rows and columns)."
   ]
  },
  {
   "cell_type": "code",
   "execution_count": 29,
   "id": "ebfad7ff",
   "metadata": {},
   "outputs": [
    {
     "name": "stdout",
     "output_type": "stream",
     "text": [
      "(2, 4)\n",
      "(2, 4)\n"
     ]
    }
   ],
   "source": [
    "arr = np.array([[1, 2, 3, 4], [5, 6, 7, 8]])\n",
    "\n",
    "print(arr.shape)\n",
    "arr = np.array([[1, 2, 3, 4], [5, 6, 7, 8]])\n",
    "\n",
    "print(arr.shape)"
   ]
  },
  {
   "cell_type": "code",
   "execution_count": 30,
   "id": "09b8b4a4",
   "metadata": {},
   "outputs": [
    {
     "name": "stdout",
     "output_type": "stream",
     "text": [
      "(1, 2, 4)\n"
     ]
    }
   ],
   "source": [
    "arr=np.array([[1, 2, 3, 4], [5, 6, 7, 8]], ndmin=3)\n",
    "print(arr.shape)\n",
    "\n"
   ]
  },
  {
   "cell_type": "code",
   "execution_count": 31,
   "id": "3507fa14",
   "metadata": {},
   "outputs": [
    {
     "name": "stdout",
     "output_type": "stream",
     "text": [
      "[[[[[1 2 3 4]]]]]\n",
      "(1, 1, 1, 1, 4)\n"
     ]
    }
   ],
   "source": [
    "arr = np.array([1, 2, 3, 4], ndmin=5)\n",
    "print(arr)\n",
    "print(arr.shape)\n"
   ]
  },
  {
   "cell_type": "markdown",
   "id": "05e1bdf5",
   "metadata": {},
   "source": [
    " Reshape:\n",
    " changing the shape of an array.\n",
    "\n",
    "The shape of an array is the number of elements in each dimension.\n",
    "\n",
    "By reshaping we can add or remove dimensions or change number of elements in each dimension."
   ]
  },
  {
   "cell_type": "code",
   "execution_count": 32,
   "id": "8c86b766",
   "metadata": {},
   "outputs": [
    {
     "name": "stdout",
     "output_type": "stream",
     "text": [
      "[[ 1  2  3]\n",
      " [ 4  4  5]\n",
      " [ 6  8  9]\n",
      " [10 12 17]]\n"
     ]
    }
   ],
   "source": [
    "arr=np.array([1,2,3,4,4,5,6,8,9,10,12,17])\n",
    "new_arr=arr.reshape(4,3) # the new array will have  4 arrays with each 3 elements\n",
    "print(new_arr)"
   ]
  },
  {
   "cell_type": "code",
   "execution_count": 33,
   "id": "d3134749",
   "metadata": {},
   "outputs": [
    {
     "name": "stdout",
     "output_type": "stream",
     "text": [
      "Array:\n",
      " [[ 0  1  2  3]\n",
      " [ 4  5  6  7]\n",
      " [ 8  9 10 11]]\n",
      "Shape: (3, 4)\n",
      "Strides: (32, 8)\n",
      "Dtype: int64\n",
      "\n",
      "View (arr[::2, ::2]):\n",
      " [[ 0  2]\n",
      " [ 8 10]]\n",
      "Original arr after modifying view:\n",
      " [[999   1   2   3]\n",
      " [  4   5   6   7]\n",
      " [  8   9  10  11]]\n"
     ]
    }
   ],
   "source": [
    "\n",
    "# Create a 2D array\n",
    "arr = np.arange(12).reshape(3, 4)\n",
    "print(\"Array:\\n\", arr)\n",
    "print(\"Shape:\", arr.shape)  # (3, 4) -> 3 rows, 4 columns\n",
    "print(\"Strides:\", arr.strides) # (32, 8) -> Bytes to next row, bytes to next column\n",
    "print(\"Dtype:\", arr.dtype)   # int64 (platform dependent)\n",
    "\n",
    "# A view is a different \"look\" at the same data\n",
    "arr_view = arr[::2, ::2] # Every other row and column\n",
    "print(\"\\nView (arr[::2, ::2]):\\n\", arr_view)\n",
    "arr_view[0, 0] = 999\n",
    "print(\"Original arr after modifying view:\\n\", arr) # The original is changed!"
   ]
  },
  {
   "cell_type": "markdown",
   "id": "b651f544",
   "metadata": {},
   "source": [
    "VECTORIZATION"
   ]
  },
  {
   "cell_type": "code",
   "execution_count": 34,
   "id": "adde207c",
   "metadata": {},
   "outputs": [],
   "source": [
    "# The SLOW way (using loops - DON'T DO THIS)\n",
    "a = np.random.rand(1000000)\n",
    "b = np.random.rand(1000000)\n",
    "\n",
    "# %timeit is a Jupyter magic command to time execution.\n",
    "# Let's simulate it conceptually.\n",
    "slow_result = [a_i + b_i for a_i, b_i in zip(a, b)] # Very Slow!\n",
    "\n"
   ]
  },
  {
   "cell_type": "code",
   "execution_count": 35,
   "id": "3dbe24da",
   "metadata": {},
   "outputs": [
    {
     "name": "stdout",
     "output_type": "stream",
     "text": [
      "Element-wise multiplication: [0.48670411 0.17560501 0.17372513 ... 0.23671128 0.15228452 0.06583559]\n",
      "Exponential: [1.82969027 1.2275113  1.79052819 ... 2.08147023 1.48471049 2.19925271]\n",
      "Comparison: [ True False  True ...  True False  True]\n",
      "Matrix multiplication (1D is dot product): 250318.8094491379\n"
     ]
    }
   ],
   "source": [
    "# The FAST way (vectorized - DO THIS)\n",
    "fast_result = a + b # Blazingly fast\n",
    "\n",
    "# Other vectorized operations\n",
    "print(\"Element-wise multiplication:\", a * b)\n",
    "print(\"Exponential:\", np.exp(a))\n",
    "print(\"Comparison:\", a > 0.5)\n",
    "print(\"Matrix multiplication (1D is dot product):\", np.dot(a, b))"
   ]
  },
  {
   "cell_type": "markdown",
   "id": "1cdaf590",
   "metadata": {},
   "source": [
    "Exercise 1: Create two 1D arrays of size 10,000 with random integers. Time the difference between adding them with a list comprehension vs. numpy vectorization. (Use %timeit in Jupyter or time.time() in a script)."
   ]
  },
  {
   "cell_type": "code",
   "execution_count": 36,
   "id": "3a77ec27",
   "metadata": {},
   "outputs": [
    {
     "name": "stdout",
     "output_type": "stream",
     "text": [
      "list_time: 0.011176s, vectorized_time: 0.000103s\n",
      "Equal results: True\n"
     ]
    }
   ],
   "source": [
    "import time\n",
    "# Create two arrays of size 10,000 (integers to match the exercise request)\n",
    "my__array1 = np.random.randint(0, 100, 10000)\n",
    "my__array2 = np.random.randint(0, 100, 10000)\n",
    "# using list comprehension (explicit Python loop)\n",
    "start = time.time()\n",
    "my_solution_sum = [my__array1[i] + my__array2[i] for i in range(len(my__array1))]\n",
    "list_time = time.time() - start\n",
    "# using numpy vectorization\n",
    "start = time.time()\n",
    "my_vectorized_sum = my__array1 + my__array2\n",
    "vectorized_time = time.time() - start\n",
    "print(f'list_time: {list_time:.6f}s, vectorized_time: {vectorized_time:.6f}s')\n",
    "# verify the results are equal\n",
    "print('Equal results:', np.array_equal(np.array(my_solution_sum), my_vectorized_sum))\n"
   ]
  },
  {
   "cell_type": "code",
   "execution_count": 37,
   "id": "8e403a46",
   "metadata": {},
   "outputs": [
    {
     "name": "stdout",
     "output_type": "stream",
     "text": [
      "[1 2 3 4 5]\n"
     ]
    }
   ],
   "source": [
    "my_array = np.array([1, 2, 3, 4, 5])\n",
    "print(my_array)"
   ]
  },
  {
   "cell_type": "code",
   "execution_count": 38,
   "id": "aab4d162",
   "metadata": {},
   "outputs": [
    {
     "name": "stdout",
     "output_type": "stream",
     "text": [
      "Matrix + Vector:\n",
      " [[2. 3. 4. 5.]\n",
      " [2. 3. 4. 5.]\n",
      " [2. 3. 4. 5.]]\n",
      "\n",
      "Outer sum via broadcasting:\n",
      " [[0 1 2 3]\n",
      " [1 2 3 4]\n",
      " [2 3 4 5]]\n"
     ]
    }
   ],
   "source": [
    "# Example 1: Scaling a matrix\n",
    "matrix = np.ones((3, 4))\n",
    "vector = np.array([1, 2, 3, 4])\n",
    "\n",
    "# (3, 4) + (4,) -> (3, 4) + (1, 4) -> (3, 4)\n",
    "result = matrix + vector\n",
    "print(\"Matrix + Vector:\\n\", result)\n",
    "\n",
    "# Example 2: More complex broadcasting\n",
    "A = np.arange(3).reshape(3, 1)   # Shape (3, 1)\n",
    "B = np.arange(4).reshape(1, 4)   # Shape (1, 4)\n",
    "\n",
    "# (3, 1) + (1, 4) -> (3, 4)\n",
    "C = A + B\n",
    "print(\"\\nOuter sum via broadcasting:\\n\", C)"
   ]
  },
  {
   "cell_type": "markdown",
   "id": "3548ae66",
   "metadata": {},
   "source": [
    "Broadcasting: Numpy's Superpower"
   ]
  },
  {
   "cell_type": "markdown",
   "id": "d43d8ed8",
   "metadata": {},
   "source": [
    "Broadcasting allows operations between arrays of different shapes, without making copies of the data.\n",
    "\n",
    "Rule: Dimensions are compared from right to left. They are compatible if they are equal, or one of them is 1."
   ]
  },
  {
   "cell_type": "code",
   "execution_count": null,
   "id": "ee70f9e4",
   "metadata": {},
   "outputs": [
    {
     "name": "stdout",
     "output_type": "stream",
     "text": [
      "Matrix + Vector:\n",
      " [[2. 3. 4. 5.]\n",
      " [2. 3. 4. 5.]\n",
      " [2. 3. 4. 5.]]\n",
      "\n",
      "Outer sum via broadcasting:\n",
      " [[0 1 2 3]\n",
      " [1 2 3 4]\n",
      " [2 3 4 5]]\n"
     ]
    }
   ],
   "source": [
    "# Example 1: Scaling a matrix\n",
    "matrix = np.ones((3, 4)) # this creates a 3x4 matrix of ones\n",
    "vector = np.array([1, 2, 3, 4])\n",
    "\n",
    "# (3, 4) + (4,) -> (3, 4) + (1, 4) -> (3, 4)\n",
    "result = matrix + vector\n",
    "print(\"Matrix + Vector:\\n\", result) # result is a 3x4 matrix where each row is [2, 3, 4, 5] after adding the vector to each row\n",
    "\n",
    "# Example 2: More complex broadcasting\n",
    "A = np.arange(3).reshape(3, 1)   # Shape (3, 1)\n",
    "B = np.arange(4).reshape(1, 4)   # Shape (1, 4)\n",
    "\n",
    "# (3, 1) + (1, 4) -> (3, 4)\n",
    "C = A + B\n",
    "print(\"\\nOuter sum via broadcasting:\\n\", C)"
   ]
  },
  {
   "cell_type": "markdown",
   "id": "4b421f54",
   "metadata": {},
   "source": [
    "By default, np.ones() creates an array of float64 values, so each element is 1.0, not 1.\n",
    "When NumPy adds a float array and an int array, it upcasts the result to float — to preserve precision.\n",
    "\n",
    "So the result array has floating-point values:"
   ]
  },
  {
   "cell_type": "code",
   "execution_count": null,
   "id": "be6b173e",
   "metadata": {},
   "outputs": [],
   "source": []
  },
  {
   "cell_type": "markdown",
   "id": "09fb87d8",
   "metadata": {},
   "source": [
    "Exercise 2: Normalize a 10x10 random matrix by subtracting the mean of each row and then dividing by the standard deviation of each row. Do this using broadcasting, without using loops."
   ]
  },
  {
   "cell_type": "code",
   "execution_count": 43,
   "id": "1b538bca",
   "metadata": {},
   "outputs": [
    {
     "name": "stdout",
     "output_type": "stream",
     "text": [
      "Row means after normalization:\n",
      " [-3.99680289e-16 -1.33226763e-16 -2.22044605e-16 -1.88737914e-16\n",
      "  0.00000000e+00  2.22044605e-17  1.11022302e-16  1.27675648e-16\n",
      "  1.55431223e-16 -9.99200722e-17]\n",
      "Row stds after normalization:\n",
      " [1. 1. 1. 1. 1. 1. 1. 1. 1. 1.]\n"
     ]
    }
   ],
   "source": [
    "import numpy as np\n",
    "\n",
    "# 1️⃣ Create a 10x10 random matrix (values in [0, 1))\n",
    "myrandom_array = np.random.rand(10, 10)\n",
    "\n",
    "# 2️⃣ Compute mean and std for each row\n",
    "row_mean = myrandom_array.mean(axis=1, keepdims=True)   # shape (10, 1)\n",
    "row_std = myrandom_array.std(axis=1, keepdims=True)     # shape (10, 1)\n",
    "\n",
    "# 3️⃣ Normalize each row using broadcasting\n",
    "normalized_array = (myrandom_array - row_mean) / row_std\n",
    "\n",
    "# 4️⃣ Verify results\n",
    "print(\"Row means after normalization:\\n\", normalized_array.mean(axis=1))\n",
    "print(\"Row stds after normalization:\\n\", normalized_array.std(axis=1))\n"
   ]
  },
  {
   "cell_type": "markdown",
   "id": "84ab78df",
   "metadata": {},
   "source": [
    "axis=1 means “compute across columns”, i.e., per row.\n",
    "\n",
    "keepdims=True preserves the (10,1) shape, allowing broadcasting to work automatically."
   ]
  },
  {
   "cell_type": "markdown",
   "id": "17ae46c4",
   "metadata": {},
   "source": [
    "INDEXING"
   ]
  },
  {
   "cell_type": "code",
   "execution_count": 44,
   "id": "623319f8",
   "metadata": {},
   "outputs": [
    {
     "name": "stdout",
     "output_type": "stream",
     "text": [
      "Elements greater than 10: [11 12 13 14 15 16 17 18 19 20 21 22 23 24]\n",
      "Rows where first element is even: [[ 0  1  2  3  4]\n",
      " [10 11 12 13 14]\n",
      " [20 21 22 23 24]]\n",
      "Elements at (0,1), (2,3), (4,0): [ 1 13 20]\n",
      "\n",
      "Array after conditional assignment:\n",
      " [[-1  1  2 -1  4]\n",
      " [ 5 -1  7  8 -1]\n",
      " [10 11 -1 13 14]\n",
      " [-1 16 17 -1 19]\n",
      " [20 -1 22 23 -1]]\n"
     ]
    }
   ],
   "source": [
    "arr = np.arange(25).reshape(5, 5)\n",
    "\n",
    "# Boolean Indexing: Using a condition to select data\n",
    "print(\"Elements greater than 10:\", arr[arr > 10])\n",
    "print(\"Rows where first element is even:\", arr[arr[:, 0] % 2 == 0])\n",
    "\n",
    "# Fancy Indexing: Using an array of indices\n",
    "rows = [0, 2, 4]\n",
    "cols = [1, 3, 0]\n",
    "print(\"Elements at (0,1), (2,3), (4,0):\", arr[rows, cols])\n",
    "\n",
    "# Combined: Assign values with conditions\n",
    "arr[arr % 3 == 0] = -1 # Set all multiples of 3 to -1\n",
    "print(\"\\nArray after conditional assignment:\\n\", arr)"
   ]
  },
  {
   "cell_type": "markdown",
   "id": "a54a34f1",
   "metadata": {},
   "source": [
    "Exercise 3: Given an array of 100 random numbers between 0 and 1, replace all values in the first and third quartile (i.e., < 0.25 and > 0.75) with np.nan."
   ]
  },
  {
   "cell_type": "code",
   "execution_count": 46,
   "id": "4fa196a7",
   "metadata": {},
   "outputs": [
    {
     "name": "stdout",
     "output_type": "stream",
     "text": [
      "[0.29105547        nan        nan 0.61597668 0.37518701        nan\n",
      "        nan 0.33621499 0.61829777        nan 0.68238759 0.58159366\n",
      "        nan 0.27829091 0.6644813         nan 0.60555157 0.71684129\n",
      " 0.64716694        nan        nan 0.44468315 0.72195832        nan\n",
      "        nan        nan 0.55519772 0.56782618        nan        nan\n",
      " 0.2861983  0.74901693 0.52666655        nan        nan 0.44493965\n",
      " 0.38610988 0.27425876        nan 0.52312295        nan        nan\n",
      " 0.32184802 0.46169717        nan 0.4263748  0.56198608 0.73283825\n",
      " 0.44417746        nan        nan        nan        nan 0.59034481\n",
      "        nan 0.28065729        nan        nan 0.57261307        nan\n",
      " 0.56663026        nan 0.52016789 0.45815911        nan 0.62731664\n",
      " 0.65501987 0.67513005 0.58988992 0.61794028        nan 0.58092057\n",
      " 0.27184649        nan 0.30249219 0.50719814        nan        nan\n",
      " 0.53272453 0.54901197 0.28029615 0.29332593 0.52673744 0.59030805\n",
      "        nan        nan        nan 0.55657213        nan        nan\n",
      "        nan        nan        nan 0.55200672 0.3039535  0.59371592\n",
      "        nan        nan 0.58317892 0.51711818]\n"
     ]
    }
   ],
   "source": [
    "\n",
    "# 1️⃣ Create an array of 100 random numbers in [0, 1)\n",
    "arr = np.random.rand(100)\n",
    "\n",
    "# 2️⃣ Replace values in the first (<0.25) and third (>0.75) quartiles with NaN\n",
    "arr[(arr < 0.25) | (arr > 0.75)] = np.nan # identifies elements below 0.25 or above 0.75.\n",
    "# 3️⃣ Print results\n",
    "print(arr)\n"
   ]
  },
  {
   "cell_type": "markdown",
   "id": "e3cdbe62",
   "metadata": {},
   "source": [
    "Structured Arrays & Record Arrays\n",
    "For handling heterogeneous data (like a spreadsheet)."
   ]
  },
  {
   "cell_type": "code",
   "execution_count": 48,
   "id": "27c0f7bd",
   "metadata": {},
   "outputs": [
    {
     "name": "stdout",
     "output_type": "stream",
     "text": [
      "Structured Array:\n",
      " [('Alice', 25, 5.5) ('Bob', 32, 5.9)]\n",
      "Names: ['Alice' 'Bob']\n",
      "Average age: 28.5\n",
      "Names (attribute access): ['Alice' 'Bob']\n"
     ]
    }
   ],
   "source": [
    "# Define a datatype\n",
    "data_type = np.dtype([('name', 'U10'), ('age', 'i4'), ('height', 'f8')])\n",
    "\n",
    "# Create a structured array\n",
    "people = np.array([('Alice', 25, 5.5), ('Bob', 32, 5.9)], dtype=data_type)\n",
    "print(\"Structured Array:\\n\", people)\n",
    "print(\"Names:\", people['name'])\n",
    "print(\"Average age:\", np.mean(people['age']))\n",
    "\n",
    "# Record arrays allow attribute-style access\n",
    "people_rec = people.view(np.recarray)\n",
    "print(\"Names (attribute access):\", people_rec.name)"
   ]
  },
  {
   "cell_type": "markdown",
   "id": "02f3d04d",
   "metadata": {},
   "source": [
    " Efficient Memory Layout: np.ascontiguousarray"
   ]
  },
  {
   "cell_type": "markdown",
   "id": "3161111c",
   "metadata": {},
   "source": [
    "CPU access patterns matter. Contiguous arrays are faster."
   ]
  },
  {
   "cell_type": "code",
   "execution_count": 49,
   "id": "5fbe800e",
   "metadata": {},
   "outputs": [
    {
     "name": "stdout",
     "output_type": "stream",
     "text": [
      "Is C-contiguous (row-major)? True\n",
      "Is F-contiguous (column-major)? False\n",
      "\n",
      "Transpose is C-contiguous? False\n",
      "Forced contiguous is C-contiguous? True\n"
     ]
    }
   ],
   "source": [
    "arr = np.arange(12).reshape(3, 4)\n",
    "print(\"Is C-contiguous (row-major)?\", arr.flags['C_CONTIGUOUS'])\n",
    "print(\"Is F-contiguous (column-major)?\", arr.flags['F_CONTIGUOUS'])\n",
    "\n",
    "# Transpose is a view, and often changes contiguity\n",
    "arr_t = arr.T\n",
    "print(\"\\nTranspose is C-contiguous?\", arr_t.flags['C_CONTIGUOUS']) # False\n",
    "\n",
    "# Force contiguity for performance-critical sections\n",
    "arr_contiguous = np.ascontiguousarray(arr_t)\n",
    "print(\"Forced contiguous is C-contiguous?\", arr_contiguous.flags['C_CONTIGUOUS']) # True"
   ]
  },
  {
   "cell_type": "markdown",
   "id": "dfc9d95d",
   "metadata": {},
   "source": [
    "Universal Functions (ufunc): Create Your Own Vectorized Operations"
   ]
  },
  {
   "cell_type": "code",
   "execution_count": 50,
   "id": "cb4e8e5c",
   "metadata": {},
   "outputs": [
    {
     "name": "stdout",
     "output_type": "stream",
     "text": [
      "Vectorized function result: [ 0.          6.84847214 24.04107573 57.18799998 99.45597889]\n",
      "Optimal function result: [ 0.          6.84847214 24.04107573 57.18799998 99.45597889]\n"
     ]
    }
   ],
   "source": [
    "# A simple element-wise function\n",
    "def my_slow_function(x):\n",
    "    return x**2 + np.sin(x)\n",
    "\n",
    "# Vectorize it!\n",
    "my_fast_ufunc = np.vectorize(my_slow_function, otypes=[np.float64])\n",
    "\n",
    "# Test it\n",
    "data = np.linspace(0, 10, 5)\n",
    "print(\"Vectorized function result:\", my_fast_ufunc(data))\n",
    "\n",
    "# For true performance, write it using existing ufuncs:\n",
    "def my_fast_function(x):\n",
    "    return x**2 + np.sin(x) # This is already vectorized if x is an array!\n",
    "\n",
    "print(\"Optimal function result:\", my_fast_function(data))"
   ]
  },
  {
   "cell_type": "markdown",
   "id": "440345dc",
   "metadata": {},
   "source": [
    "Performance Tuning:\n",
    "Use np.einsum: For complex tensor operations, it's often the fastest and most readable way."
   ]
  },
  {
   "cell_type": "code",
   "execution_count": 51,
   "id": "58e57962",
   "metadata": {},
   "outputs": [],
   "source": [
    "A = np.random.rand(3, 4)\n",
    "B = np.random.rand(4, 5)\n",
    "# Matrix multiplication with einsum\n",
    "C = np.einsum('ij,jk->ik', A, B)"
   ]
  },
  {
   "cell_type": "markdown",
   "id": "3bffb7d3",
   "metadata": {},
   "source": [
    "when to use out= parameter: Avoids creating temporary arrays."
   ]
  },
  {
   "cell_type": "code",
   "execution_count": 54,
   "id": "6421201b",
   "metadata": {},
   "outputs": [
    {
     "ename": "ValueError",
     "evalue": "operands could not be broadcast together with shapes (3,4) (4,5) (1000,1000) ",
     "output_type": "error",
     "traceback": [
      "\u001b[31m---------------------------------------------------------------------------\u001b[39m",
      "\u001b[31mValueError\u001b[39m                                Traceback (most recent call last)",
      "\u001b[36mCell\u001b[39m\u001b[36m \u001b[39m\u001b[32mIn[54]\u001b[39m\u001b[32m, line 2\u001b[39m\n\u001b[32m      1\u001b[39m result = np.zeros((\u001b[32m1000\u001b[39m, \u001b[32m1000\u001b[39m))\n\u001b[32m----> \u001b[39m\u001b[32m2\u001b[39m \u001b[43mnp\u001b[49m\u001b[43m.\u001b[49m\u001b[43mmultiply\u001b[49m\u001b[43m(\u001b[49m\u001b[43mA\u001b[49m\u001b[43m,\u001b[49m\u001b[43m \u001b[49m\u001b[43mB\u001b[49m\u001b[43m,\u001b[49m\u001b[43m \u001b[49m\u001b[43mout\u001b[49m\u001b[43m=\u001b[49m\u001b[43mresult\u001b[49m\u001b[43m)\u001b[49m \u001b[38;5;66;03m# Puts result directly into pre-allocated array\u001b[39;00m\n",
      "\u001b[31mValueError\u001b[39m: operands could not be broadcast together with shapes (3,4) (4,5) (1000,1000) "
     ]
    }
   ],
   "source": [
    "result = np.zeros((1000, 1000))\n",
    "np.multiply(A, B, out=result) # Puts result directly into pre-allocated array"
   ]
  },
  {
   "cell_type": "code",
   "execution_count": null,
   "id": "f610fcbf",
   "metadata": {},
   "outputs": [],
   "source": []
  }
 ],
 "metadata": {
  "kernelspec": {
   "display_name": "ml-1VGOpNek-py3.12",
   "language": "python",
   "name": "python3"
  },
  "language_info": {
   "codemirror_mode": {
    "name": "ipython",
    "version": 3
   },
   "file_extension": ".py",
   "mimetype": "text/x-python",
   "name": "python",
   "nbconvert_exporter": "python",
   "pygments_lexer": "ipython3",
   "version": "3.12.3"
  }
 },
 "nbformat": 4,
 "nbformat_minor": 5
}
