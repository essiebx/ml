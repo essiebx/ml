{
 "cells": [
  {
   "cell_type": "code",
   "execution_count": 2,
   "id": "3642ae6d",
   "metadata": {},
   "outputs": [],
   "source": [
    "import pandas as pd\n",
    "import numpy as np"
   ]
  },
  {
   "cell_type": "markdown",
   "id": "e1e77cd4",
   "metadata": {},
   "source": [
    "Getting the required Data"
   ]
  },
  {
   "cell_type": "markdown",
   "id": "14120c53",
   "metadata": {},
   "source": [
    "Car Fuel Efficiency dataset: available at https://raw.githubusercontent.com/alexeygrigorev/datasets/master/car_fuel_efficiency.csv"
   ]
  },
  {
   "cell_type": "markdown",
   "id": "66df0a13",
   "metadata": {},
   "source": [
    "in your current terminal(assuming its your project root  paste this command: wget https://raw.githubusercontent.com/alexeygrigorev/datasets/master/car_fuel_efficiency.csv  )"
   ]
  },
  {
   "cell_type": "markdown",
   "id": "be6740e1",
   "metadata": {},
   "source": [
    "interacting with the downloaded data"
   ]
  },
  {
   "cell_type": "code",
   "execution_count": 4,
   "id": "27e43662",
   "metadata": {},
   "outputs": [],
   "source": [
    "data = pd.read_csv(\"https://raw.githubusercontent.com/alexeygrigorev/datasets/master/car_fuel_efficiency.csv\")\n",
    "# data = pd.read_csv(\"car_fuel_efficiency.csv\")"
   ]
  },
  {
   "cell_type": "markdown",
   "id": "dca12151",
   "metadata": {},
   "source": [
    "Question 1\n",
    "What's the version of Pandas that you installed?  answer:2.3.3\n",
    "\n",
    "You can get the version information using the __version__ field:"
   ]
  },
  {
   "cell_type": "code",
   "execution_count": 6,
   "id": "69b051b7",
   "metadata": {},
   "outputs": [
    {
     "data": {
      "text/plain": [
       "'2.3.3'"
      ]
     },
     "execution_count": 6,
     "metadata": {},
     "output_type": "execute_result"
    }
   ],
   "source": [
    "pd.__version__\n"
   ]
  },
  {
   "cell_type": "code",
   "execution_count": 5,
   "id": "388d92ad",
   "metadata": {},
   "outputs": [
    {
     "data": {
      "text/html": [
       "<div>\n",
       "<style scoped>\n",
       "    .dataframe tbody tr th:only-of-type {\n",
       "        vertical-align: middle;\n",
       "    }\n",
       "\n",
       "    .dataframe tbody tr th {\n",
       "        vertical-align: top;\n",
       "    }\n",
       "\n",
       "    .dataframe thead th {\n",
       "        text-align: right;\n",
       "    }\n",
       "</style>\n",
       "<table border=\"1\" class=\"dataframe\">\n",
       "  <thead>\n",
       "    <tr style=\"text-align: right;\">\n",
       "      <th></th>\n",
       "      <th>engine_displacement</th>\n",
       "      <th>num_cylinders</th>\n",
       "      <th>horsepower</th>\n",
       "      <th>vehicle_weight</th>\n",
       "      <th>acceleration</th>\n",
       "      <th>model_year</th>\n",
       "      <th>origin</th>\n",
       "      <th>fuel_type</th>\n",
       "      <th>drivetrain</th>\n",
       "      <th>num_doors</th>\n",
       "      <th>fuel_efficiency_mpg</th>\n",
       "    </tr>\n",
       "  </thead>\n",
       "  <tbody>\n",
       "    <tr>\n",
       "      <th>0</th>\n",
       "      <td>170</td>\n",
       "      <td>3.0</td>\n",
       "      <td>159.0</td>\n",
       "      <td>3413.433759</td>\n",
       "      <td>17.7</td>\n",
       "      <td>2003</td>\n",
       "      <td>Europe</td>\n",
       "      <td>Gasoline</td>\n",
       "      <td>All-wheel drive</td>\n",
       "      <td>0.0</td>\n",
       "      <td>13.231729</td>\n",
       "    </tr>\n",
       "    <tr>\n",
       "      <th>1</th>\n",
       "      <td>130</td>\n",
       "      <td>5.0</td>\n",
       "      <td>97.0</td>\n",
       "      <td>3149.664934</td>\n",
       "      <td>17.8</td>\n",
       "      <td>2007</td>\n",
       "      <td>USA</td>\n",
       "      <td>Gasoline</td>\n",
       "      <td>Front-wheel drive</td>\n",
       "      <td>0.0</td>\n",
       "      <td>13.688217</td>\n",
       "    </tr>\n",
       "    <tr>\n",
       "      <th>2</th>\n",
       "      <td>170</td>\n",
       "      <td>NaN</td>\n",
       "      <td>78.0</td>\n",
       "      <td>3079.038997</td>\n",
       "      <td>15.1</td>\n",
       "      <td>2018</td>\n",
       "      <td>Europe</td>\n",
       "      <td>Gasoline</td>\n",
       "      <td>Front-wheel drive</td>\n",
       "      <td>0.0</td>\n",
       "      <td>14.246341</td>\n",
       "    </tr>\n",
       "    <tr>\n",
       "      <th>3</th>\n",
       "      <td>220</td>\n",
       "      <td>4.0</td>\n",
       "      <td>NaN</td>\n",
       "      <td>2542.392402</td>\n",
       "      <td>20.2</td>\n",
       "      <td>2009</td>\n",
       "      <td>USA</td>\n",
       "      <td>Diesel</td>\n",
       "      <td>All-wheel drive</td>\n",
       "      <td>2.0</td>\n",
       "      <td>16.912736</td>\n",
       "    </tr>\n",
       "    <tr>\n",
       "      <th>4</th>\n",
       "      <td>210</td>\n",
       "      <td>1.0</td>\n",
       "      <td>140.0</td>\n",
       "      <td>3460.870990</td>\n",
       "      <td>14.4</td>\n",
       "      <td>2009</td>\n",
       "      <td>Europe</td>\n",
       "      <td>Gasoline</td>\n",
       "      <td>All-wheel drive</td>\n",
       "      <td>2.0</td>\n",
       "      <td>12.488369</td>\n",
       "    </tr>\n",
       "  </tbody>\n",
       "</table>\n",
       "</div>"
      ],
      "text/plain": [
       "   engine_displacement  num_cylinders  horsepower  vehicle_weight  \\\n",
       "0                  170            3.0       159.0     3413.433759   \n",
       "1                  130            5.0        97.0     3149.664934   \n",
       "2                  170            NaN        78.0     3079.038997   \n",
       "3                  220            4.0         NaN     2542.392402   \n",
       "4                  210            1.0       140.0     3460.870990   \n",
       "\n",
       "   acceleration  model_year  origin fuel_type         drivetrain  num_doors  \\\n",
       "0          17.7        2003  Europe  Gasoline    All-wheel drive        0.0   \n",
       "1          17.8        2007     USA  Gasoline  Front-wheel drive        0.0   \n",
       "2          15.1        2018  Europe  Gasoline  Front-wheel drive        0.0   \n",
       "3          20.2        2009     USA    Diesel    All-wheel drive        2.0   \n",
       "4          14.4        2009  Europe  Gasoline    All-wheel drive        2.0   \n",
       "\n",
       "   fuel_efficiency_mpg  \n",
       "0            13.231729  \n",
       "1            13.688217  \n",
       "2            14.246341  \n",
       "3            16.912736  \n",
       "4            12.488369  "
      ]
     },
     "execution_count": 5,
     "metadata": {},
     "output_type": "execute_result"
    }
   ],
   "source": [
    "#get the first 5 rows\n",
    "data.head()"
   ]
  },
  {
   "cell_type": "markdown",
   "id": "9d15ba0f",
   "metadata": {},
   "source": [
    "Question 2\n",
    "How many records are in the dataset? the dataset contains  9704 rows and 11 columns"
   ]
  },
  {
   "cell_type": "code",
   "execution_count": 7,
   "id": "27cced95",
   "metadata": {},
   "outputs": [
    {
     "data": {
      "text/plain": [
       "(9704, 11)"
      ]
     },
     "execution_count": 7,
     "metadata": {},
     "output_type": "execute_result"
    }
   ],
   "source": [
    "data.shape"
   ]
  },
  {
   "cell_type": "markdown",
   "id": "aee56513",
   "metadata": {},
   "source": [
    "Question 3\n",
    "How many fuel types are presented in the dataset?"
   ]
  },
  {
   "cell_type": "code",
   "execution_count": null,
   "id": "b5f27ba9",
   "metadata": {},
   "outputs": [
    {
     "name": "stdout",
     "output_type": "stream",
     "text": [
      "Unique fuel types: ['Gasoline' 'Diesel']\n",
      "Number of unique fuel types: 2\n",
      "Number of unique fuel types (via nunique): 2\n"
     ]
    }
   ],
   "source": [
    "unique_fuel_types = data[\"fuel_type\"].unique()\n",
    "print(f\"Unique fuel types: {unique_fuel_types}\")\n",
    "num_unique_fuel_types = len(unique_fuel_types)\n",
    "print(f\"Number of unique fuel types: {num_unique_fuel_types}\")\n",
    "#you can also use nunique()\n",
    "num_unique_fuel_types_via_nunique = data[\"fuel_type\"].nunique()\n",
    "print(f\"Number of unique fuel types (via nunique): {num_unique_fuel_types_via_nunique}\")  \n",
    "data.fuel_type.nunique()"
   ]
  },
  {
   "cell_type": "markdown",
   "id": "5e17534a",
   "metadata": {},
   "source": [
    "Computation Cost Comparison"
   ]
  },
  {
   "cell_type": "markdown",
   "id": "390b20d1",
   "metadata": {},
   "source": [
    "| Method       | What it does internally                                                   | Memory                                | Speed                                                   | Notes                                           |\n",
    "| ------------ | ------------------------------------------------------------------------- | ------------------------------------- | ------------------------------------------------------- | ----------------------------------------------- |\n",
    "| `.unique()`  | Extracts all unique values and returns them as a NumPy array.             | **Higher** (stores all unique values) | Slightly **slower** if column has many distinct values. | Useful when you actually need the unique items. |\n",
    "| `.nunique()` | Counts unique values **without storing them** (optimized Cython routine). | **Lower**                             | Slightly **faster**, especially for large datasets.     | Ideal if you only need the count.               |\n"
   ]
  },
  {
   "cell_type": "markdown",
   "id": "97e2bb16",
   "metadata": {},
   "source": [
    "Question 4\n",
    "How many columns in the dataset have missing values? answer:4 columns"
   ]
  },
  {
   "cell_type": "code",
   "execution_count": 13,
   "id": "586ca2dc",
   "metadata": {},
   "outputs": [
    {
     "data": {
      "text/plain": [
       "engine_displacement      0\n",
       "num_cylinders          482\n",
       "horsepower             708\n",
       "vehicle_weight           0\n",
       "acceleration           930\n",
       "model_year               0\n",
       "origin                   0\n",
       "fuel_type                0\n",
       "drivetrain               0\n",
       "num_doors              502\n",
       "fuel_efficiency_mpg      0\n",
       "dtype: int64"
      ]
     },
     "execution_count": 13,
     "metadata": {},
     "output_type": "execute_result"
    }
   ],
   "source": [
    "data.isnull().sum()"
   ]
  },
  {
   "cell_type": "code",
   "execution_count": 15,
   "id": "0f390121",
   "metadata": {},
   "outputs": [
    {
     "data": {
      "text/plain": [
       "np.int64(4)"
      ]
     },
     "execution_count": 15,
     "metadata": {},
     "output_type": "execute_result"
    }
   ],
   "source": [
    "# total number of columns with missing values\n",
    "(data.isnull().sum() > 0).sum()"
   ]
  },
  {
   "cell_type": "markdown",
   "id": "d1ebd993",
   "metadata": {},
   "source": [
    "Question 5\n",
    "What's the maximum fuel efficiency of cars from Asia in the dataset?"
   ]
  },
  {
   "cell_type": "code",
   "execution_count": 18,
   "id": "279aee21",
   "metadata": {},
   "outputs": [
    {
     "name": "stdout",
     "output_type": "stream",
     "text": [
      "Fuel efficiency by region:\n",
      "             min       mean        max  count\n",
      "origin                                       \n",
      "USA     6.695483  15.040204  24.971452   3203\n",
      "Asia    6.886245  14.973830  23.759123   3247\n",
      "Europe  6.200971  14.942532  25.967222   3254\n",
      "\n",
      "Maximum fuel efficiency for Asian cars: 23.759122836520497\n"
     ]
    }
   ],
   "source": [
    "# Get comprehensive stats by region\n",
    "region_stats = data.groupby('origin')['fuel_efficiency_mpg'].agg(['min', 'mean', 'max', 'count']).rename(columns={\n",
    "    'min': 'min',\n",
    "    'mean': 'mean',\n",
    "    'max': 'max',\n",
    "    'count': 'count'\n",
    "}).sort_values(by='mean', ascending=False)\n",
    "print(\"Fuel efficiency by region:\")\n",
    "print(region_stats)\n",
    "\n",
    "# Specifically for Asia\n",
    "if 'asia' in region_stats.index.str.lower().values:\n",
    "    asia_max = region_stats.loc[region_stats.index.str.lower() == 'asia', 'max'].iloc[0]\n",
    "    print(f\"\\nMaximum fuel efficiency for Asian cars: {asia_max}\")"
   ]
  },
  {
   "cell_type": "markdown",
   "id": "e9878e1c",
   "metadata": {},
   "source": [
    "Question 6\n",
    "Find the median value of horsepower column in the dataset.\n",
    "Next, calculate the most frequent value of the same horsepower column.\n",
    "Use fillna method to fill the missing values in horsepower column with the most frequent value from the previous step.\n",
    "Now, calculate the median value of horsepower once again.\n",
    "Has it changed?"
   ]
  },
  {
   "cell_type": "code",
   "execution_count": null,
   "id": "c71639c2",
   "metadata": {},
   "outputs": [
    {
     "name": "stdout",
     "output_type": "stream",
     "text": [
      " HORSEPOWER MEDIAN ANALYSIS\n",
      "========================================\n",
      " Original Data:\n",
      "   - Total entries: 9704\n",
      "   - Missing values: 708 (7.3%)\n",
      "   - Original median: 149.00\n",
      " Mode: 152.0 (appears 142 times)\n",
      " After Mode Imputation:\n",
      "   - New median: 152.00\n",
      "   - Change: +3.00\n",
      "========================================\n",
      "yes there is a positive change in median after filling missing values with mode\n"
     ]
    }
   ],
   "source": [
    "def analyze_horsepower_median(data):\n",
    "    \"\"\"\n",
    "    Complete analysis of horsepower median before and after mode imputation.\n",
    "    \"\"\"\n",
    "    print(\" HORSEPOWER MEDIAN ANALYSIS\")\n",
    "    print(\"=\" * 40)\n",
    "    \n",
    "    # Step 1: Original median\n",
    "    original_median = data['horsepower'].median()\n",
    "    missing_count = data['horsepower'].isna().sum()\n",
    "    total_count = len(data['horsepower'])\n",
    "    \n",
    "    print(f\" Original Data:\")\n",
    "    print(f\"   - Total entries: {total_count}\")\n",
    "    print(f\"   - Missing values: {missing_count} ({missing_count/total_count*100:.1f}%)\")\n",
    "    print(f\"   - Original median: {original_median:.2f}\")\n",
    "    \n",
    "    # Step 2: Most frequent value\n",
    "    mode_values = data['horsepower'].mode()\n",
    "    if len(mode_values) == 0:\n",
    "        most_frequent = original_median\n",
    "        print(f\" Mode: No mode found, using median: {most_frequent:.2f}\")\n",
    "    else:\n",
    "        most_frequent = mode_values.iloc[0]\n",
    "        mode_frequency = (data['horsepower'] == most_frequent).sum()\n",
    "        print(f\" Mode: {most_frequent} (appears {mode_frequency} times)\")\n",
    "        if len(mode_values) > 1:\n",
    "            print(f\"   Note: Multiple modes exist: {mode_values.tolist()}\")\n",
    "    \n",
    "    # Step 3 & 4: Fill and calculate new median\n",
    "    filled_series = data['horsepower'].fillna(most_frequent)\n",
    "    new_median = filled_series.median()\n",
    "    \n",
    "    print(f\" After Mode Imputation:\")\n",
    "    print(f\"   - New median: {new_median:.2f}\")\n",
    "    print(f\"   - Change: {new_median - original_median:+.2f}\")\n",
    "    print(\"=\" * 40)\n",
    "    print(\"yes there is a positive change in median after filling missing values with mode\")\n",
    "    \n",
    "    return {\n",
    "        'original_median': original_median,\n",
    "        'most_frequent': most_frequent,\n",
    "        'new_median': new_median,\n",
    "        'missing_count': missing_count,\n",
    "        'filled_series': filled_series\n",
    "    }\n",
    "\n",
    "# Execute the analysiss\n",
    "result = analyze_horsepower_median(data)"
   ]
  },
  {
   "cell_type": "markdown",
   "id": "e071954f",
   "metadata": {},
   "source": [
    "Question 7\n",
    "Select all the cars from Europe\n",
    "Select only columns vehicle_weight and model_year\n",
    "Select the first 7 values\n",
    "Get the underlying NumPy array. Let's call it X.\n",
    "Compute matrix-matrix multiplication between the transpose of X and X. To get the transpose, use X.T. Let's call the result XTX.\n",
    "Invert XTX.\n",
    "Create an array y with values [1100, 1300, 800, 900, 1000, 1100, 1200].\n",
    "Multiply the inverse of XTX with the transpose of X, and then multiply the result by y. Call the result w.\n",
    "What's the sum of all the elements of the result?"
   ]
  },
  {
   "cell_type": "code",
   "execution_count": 26,
   "id": "c566f553",
   "metadata": {},
   "outputs": [
    {
     "name": "stdout",
     "output_type": "stream",
     "text": [
      "Step 1 - Selected data shape: (3254, 2)\n",
      "First few rows:\n",
      "    vehicle_weight  model_year\n",
      "0      3413.433759        2003\n",
      "2      3079.038997        2018\n",
      "4      3460.870990        2009\n",
      "5      2484.883986        2008\n",
      "10     3111.810181        2014\n",
      "13     2274.735191        2000\n",
      "16     2673.552941        2013\n",
      "18     2971.214575        2003\n",
      "19     2986.958657        2004\n",
      "22     2438.842126        2016\n"
     ]
    }
   ],
   "source": [
    "import pandas as pd\n",
    "import numpy as np\n",
    "\n",
    "# Select European cars and required columns\n",
    "european_cars = data[data['origin'] == 'Europe']\n",
    "selected_data = european_cars[['vehicle_weight', 'model_year']]\n",
    "\n",
    "print(\"Step 1 - Selected data shape:\", selected_data.shape)\n",
    "print(\"First few rows:\")\n",
    "print(selected_data.head(10))"
   ]
  },
  {
   "cell_type": "code",
   "execution_count": 27,
   "id": "f16780ae",
   "metadata": {},
   "outputs": [
    {
     "name": "stdout",
     "output_type": "stream",
     "text": [
      "\n",
      "Step 2 - First 7 values shape: (7, 2)\n",
      "    vehicle_weight  model_year\n",
      "0      3413.433759        2003\n",
      "2      3079.038997        2018\n",
      "4      3460.870990        2009\n",
      "5      2484.883986        2008\n",
      "10     3111.810181        2014\n",
      "13     2274.735191        2000\n",
      "16     2673.552941        2013\n",
      "\n",
      "NumPy array X shape: (7, 2)\n",
      "X =\n",
      "[[3413.43375861 2003.        ]\n",
      " [3079.03899737 2018.        ]\n",
      " [3460.87098999 2009.        ]\n",
      " [2484.88398604 2008.        ]\n",
      " [3111.81018139 2014.        ]\n",
      " [2274.73519056 2000.        ]\n",
      " [2673.55294096 2013.        ]]\n"
     ]
    }
   ],
   "source": [
    "# Select first 7 values\n",
    "first_7 = selected_data.head(7)\n",
    "print(f\"\\nStep 2 - First 7 values shape: {first_7.shape}\")\n",
    "print(first_7)\n",
    "\n",
    "# Get underlying NumPy array\n",
    "X = first_7.values\n",
    "print(f\"\\nNumPy array X shape: {X.shape}\")\n",
    "print(\"X =\")\n",
    "print(X)"
   ]
  },
  {
   "cell_type": "code",
   "execution_count": 29,
   "id": "7d6c5e1c",
   "metadata": {},
   "outputs": [
    {
     "name": "stdout",
     "output_type": "stream",
     "text": [
      "\n",
      "Step 3 - XTX shape: (2, 2)\n",
      "XTX =\n",
      "[[61289955.72540274 41191663.53461886]\n",
      " [41191663.53461886 28260843.        ]]\n"
     ]
    }
   ],
   "source": [
    "# Compute XTX = transpose(X) × X\n",
    "XTX = np.dot(X.T, X)\n",
    "print(f\"\\nStep 3 - XTX shape: {XTX.shape}\")\n",
    "print(\"XTX =\")\n",
    "print(XTX)"
   ]
  },
  {
   "cell_type": "code",
   "execution_count": 30,
   "id": "eb3acd0c",
   "metadata": {},
   "outputs": [
    {
     "name": "stdout",
     "output_type": "stream",
     "text": [
      "\n",
      "Step 4 - XTX_inv shape: (2, 2)\n",
      "XTX_inv =\n",
      "[[ 7.99397664e-07 -1.16516410e-06]\n",
      " [-1.16516410e-06  1.73367254e-06]]\n"
     ]
    }
   ],
   "source": [
    "# Invert XTX\n",
    "try:\n",
    "    XTX_inv = np.linalg.inv(XTX)\n",
    "    print(f\"\\nStep 4 - XTX_inv shape: {XTX_inv.shape}\")\n",
    "    print(\"XTX_inv =\")\n",
    "    print(XTX_inv)\n",
    "except np.linalg.LinAlgError:\n",
    "    print(\"Matrix is singular, cannot be inverted\")\n",
    "    # If singular, use pseudoinverse instead\n",
    "    XTX_inv = np.linalg.pinv(XTX)\n",
    "    print(\"Using pseudoinverse instead\")\n",
    "    print(XTX_inv)"
   ]
  },
  {
   "cell_type": "code",
   "execution_count": 31,
   "id": "f27a541c",
   "metadata": {},
   "outputs": [
    {
     "name": "stdout",
     "output_type": "stream",
     "text": [
      "\n",
      "Step 5 - y shape: (7,)\n",
      "y = [1100 1300  800  900 1000 1100 1200]\n",
      "\n",
      "Step 6 - w shape: (2,)\n",
      "w = [-0.07188499  0.63097065]\n"
     ]
    }
   ],
   "source": [
    "# Create array y\n",
    "y = np.array([1100, 1300, 800, 900, 1000, 1100, 1200])\n",
    "print(f\"\\nStep 5 - y shape: {y.shape}\")\n",
    "print(\"y =\", y)\n",
    "\n",
    "# Compute w = XTX_inv × X.T × y\n",
    "w = XTX_inv @ X.T @ y\n",
    "print(f\"\\nStep 6 - w shape: {w.shape}\")\n",
    "print(\"w =\", w)"
   ]
  },
  {
   "cell_type": "code",
   "execution_count": 34,
   "id": "5da8fc47",
   "metadata": {},
   "outputs": [
    {
     "name": "stdout",
     "output_type": "stream",
     "text": [
      " LINEAR REGRESSION MANUAL CALCULATION\n",
      "==================================================\n",
      " Selected Data (European cars - first 7):\n",
      "    vehicle_weight  model_year\n",
      "0      3413.433759        2003\n",
      "2      3079.038997        2018\n",
      "4      3460.870990        2009\n",
      "5      2484.883986        2008\n",
      "10     3111.810181        2014\n",
      "13     2274.735191        2000\n",
      "16     2673.552941        2013\n",
      "\n",
      " Design Matrix X (shape: (7, 2)):\n",
      "[[3413.43375861 2003.        ]\n",
      " [3079.03899737 2018.        ]\n",
      " [3460.87098999 2009.        ]\n",
      " [2484.88398604 2008.        ]\n",
      " [3111.81018139 2014.        ]\n",
      " [2274.73519056 2000.        ]\n",
      " [2673.55294096 2013.        ]]\n",
      "\n",
      " XTX (X.T × X) (shape: (2, 2)):\n",
      "[[61289955.72540274 41191663.53461886]\n",
      " [41191663.53461886 28260843.        ]]\n",
      "\n",
      " Inverse of XTX (shape: (2, 2)):\n",
      "[[ 7.99397664e-07 -1.16516410e-06]\n",
      " [-1.16516410e-06  1.73367254e-06]]\n",
      "\n",
      " Target vector y (shape: (7,)):\n",
      "[1100 1300  800  900 1000 1100 1200]\n",
      "\n",
      " Weight vector w (shape: (2,)):\n",
      "[-0.07188499  0.63097065]\n",
      "\n",
      " FINAL RESULT: Sum of all elements in w = 0.559085655434893\n"
     ]
    }
   ],
   "source": [
    "def solve_linear_regression_manual(data):\n",
    "    \"\"\"\n",
    "    Complete solution for the manual linear regression problem.\n",
    "    \"\"\"\n",
    "    print(\" LINEAR REGRESSION MANUAL CALCULATION\")\n",
    "    print(\"=\" * 50)\n",
    "    \n",
    "    # Step 1: Select European cars with required columns\n",
    "    european_cars = data[data['origin'] == 'Europe']\n",
    "    selected_data = european_cars[['vehicle_weight', 'model_year']].head(7)\n",
    "    \n",
    "    print(\" Selected Data (European cars - first 7):\")\n",
    "    print(selected_data)\n",
    "    \n",
    "    # Step 2: Get NumPy array\n",
    "    X = selected_data.values\n",
    "    print(f\"\\n Design Matrix X (shape: {X.shape}):\")\n",
    "    print(X)\n",
    "    \n",
    "    # Step 3: Compute XTX\n",
    "    XTX = X.T @ X\n",
    "    print(f\"\\n XTX (X.T × X) (shape: {XTX.shape}):\")\n",
    "    print(XTX)\n",
    "    \n",
    "    # Step 4: Invert XTX with error handling\n",
    "    try:\n",
    "        XTX_inv = np.linalg.inv(XTX)\n",
    "        print(f\"\\n Inverse of XTX (shape: {XTX_inv.shape}):\")\n",
    "        print(XTX_inv)\n",
    "    except np.linalg.LinAlgError:\n",
    "        print(\" XTX is singular, using pseudoinverse\")\n",
    "        XTX_inv = np.linalg.pinv(XTX)\n",
    "        print(f\"Pseudoinverse of XTX (shape: {XTX_inv.shape}):\")\n",
    "        print(XTX_inv)\n",
    "    \n",
    "    # Step 5: Create y and compute w\n",
    "    y = np.array([1100, 1300, 800, 900, 1000, 1100, 1200])\n",
    "    print(f\"\\n Target vector y (shape: {y.shape}):\")\n",
    "    print(y)\n",
    "    \n",
    "    # Step 6: Compute weights w = (X.T × X)^-1 × X.T × y\n",
    "    w = XTX_inv @ X.T @ y\n",
    "    print(f\"\\n Weight vector w (shape: {w.shape}):\")\n",
    "    print(w)\n",
    "    \n",
    "    # Step 7: Calculate final sum\n",
    "    result_sum = np.sum(w)\n",
    "    print(f\"\\n FINAL RESULT: Sum of all elements in w = {result_sum}\")\n",
    "    \n",
    "    return {\n",
    "        'X': X,\n",
    "        'XTX': XTX,\n",
    "        'XTX_inv': XTX_inv,\n",
    "        'y': y,\n",
    "        'w': w,\n",
    "        'sum_result': result_sum\n",
    "    }\n",
    "\n",
    "# Execute the solution\n",
    "result = solve_linear_regression_manual(data)"
   ]
  }
 ],
 "metadata": {
  "kernelspec": {
   "display_name": "ml-1VGOpNek-py3.12",
   "language": "python",
   "name": "python3"
  },
  "language_info": {
   "codemirror_mode": {
    "name": "ipython",
    "version": 3
   },
   "file_extension": ".py",
   "mimetype": "text/x-python",
   "name": "python",
   "nbconvert_exporter": "python",
   "pygments_lexer": "ipython3",
   "version": "3.12.3"
  }
 },
 "nbformat": 4,
 "nbformat_minor": 5
}
